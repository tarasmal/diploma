{
 "cells": [
  {
   "cell_type": "code",
   "id": "de29ca3e",
   "metadata": {
    "ExecuteTime": {
     "end_time": "2025-06-06T19:55:53.351373Z",
     "start_time": "2025-06-06T19:55:52.518431Z"
    }
   },
   "source": [
    "import pandas as pd\n",
    "import numpy as np\n",
    "from tqdm import tqdm\n",
    "import pymongo\n",
    "import joblib\n",
    "from sklearn.preprocessing import StandardScaler\n",
    "from sklearn.cluster import KMeans\n",
    "from sklearn.metrics import silhouette_score\n",
    "import matplotlib.pyplot as plt\n",
    "import seaborn as sns\n"
   ],
   "outputs": [],
   "execution_count": 1
  },
  {
   "cell_type": "code",
   "id": "0b46db55",
   "metadata": {
    "ExecuteTime": {
     "end_time": "2025-06-06T19:55:54.931449Z",
     "start_time": "2025-06-06T19:55:54.912269Z"
    }
   },
   "source": [
    "client = pymongo.MongoClient(\"mongodb://localhost:27017\")\n",
    "db = client[\"dota\"]\n",
    "matches_info = db[\"matches_info\"]\n"
   ],
   "outputs": [],
   "execution_count": 2
  },
  {
   "cell_type": "code",
   "id": "2e50e0b4",
   "metadata": {
    "ExecuteTime": {
     "end_time": "2025-06-06T19:56:08.841330Z",
     "start_time": "2025-06-06T19:55:58.969030Z"
    }
   },
   "source": [
    "all_hero_ids = sorted(matches_info.distinct(\"players.hero_id\"))\n",
    "print(f\"Знайдено {len(all_hero_ids)} hero_id\")\n"
   ],
   "outputs": [
    {
     "name": "stdout",
     "output_type": "stream",
     "text": [
      "Знайдено 126 hero_id\n"
     ]
    }
   ],
   "execution_count": 3
  },
  {
   "metadata": {
    "ExecuteTime": {
     "end_time": "2025-06-06T19:56:10.719872Z",
     "start_time": "2025-06-06T19:56:10.715742Z"
    }
   },
   "cell_type": "code",
   "source": [
    "def one_hot_heroes(hero_ids, prefix):\n",
    "    vec = {f\"{prefix}_{hid}\": 0 for hid in all_hero_ids}\n",
    "    for hid in hero_ids:\n",
    "        if hid in all_hero_ids:\n",
    "            vec[f\"{prefix}_{hid}\"] = 1\n",
    "    return vec\n"
   ],
   "id": "4d13dd10",
   "outputs": [],
   "execution_count": 4
  },
  {
   "cell_type": "code",
   "id": "5f4ea5f8",
   "metadata": {
    "ExecuteTime": {
     "end_time": "2025-06-06T19:57:19.138001Z",
     "start_time": "2025-06-06T19:56:12.766334Z"
    }
   },
   "source": [
    "player_rows = []\n",
    "cursor = matches_info.find({}, {\"players\": 1, \"radiant_win\": 1})\n",
    "for match in tqdm(cursor, total=matches_info.estimated_document_count(), desc=\"Матчі\"):\n",
    "    radiant_win = match.get(\"radiant_win\", True)\n",
    "    players = match.get(\"players\", [])\n",
    "    if len(players) != 10:\n",
    "        continue\n",
    "    radiant_team = [p[\"hero_id\"] for p in players[:5]]\n",
    "    dire_team = [p[\"hero_id\"] for p in players[5:]]\n",
    "    for p in players:\n",
    "        is_radiant = p.get(\"isRadiant\", True)\n",
    "        team_heroes = radiant_team if is_radiant else dire_team\n",
    "        enemy_heroes = dire_team if is_radiant else radiant_team\n",
    "        win = int(is_radiant == radiant_win)\n",
    "        row = {\n",
    "            \"hero_id\": p.get(\"hero_id\"),\n",
    "            \"kda\": p.get(\"kda\", 0),\n",
    "            \"kills_per_min\": p.get(\"kills_per_min\", 0),\n",
    "            \"assists\": p.get(\"assists\", 0),\n",
    "            \"gpm\": p.get(\"gold_per_min\", 0),\n",
    "            \"xpm\": p.get(\"xp_per_min\", 0),\n",
    "            \"hero_damage\": p.get(\"hero_damage\", 0),\n",
    "            \"tower_damage\": p.get(\"tower_damage\", 0),\n",
    "            \"healing\": p.get(\"hero_healing\", 0),\n",
    "            \"last_hits_per_min\": p.get(\"benchmarks\", {}).get(\"last_hits_per_min\", {}).get(\"raw\", 0),\n",
    "            \"win\": win\n",
    "        }\n",
    "        row.update(one_hot_heroes(team_heroes, \"ally\"))\n",
    "        row.update(one_hot_heroes(enemy_heroes, \"enemy\"))\n",
    "        player_rows.append(row)\n",
    "df = pd.DataFrame(player_rows).fillna(0)\n",
    "df[\"kda\"] = df[\"kda\"].replace([np.inf, -np.inf], 0)\n",
    "print(\"DataFrame shape:\", df.shape)\n"
   ],
   "outputs": [
    {
     "name": "stderr",
     "output_type": "stream",
     "text": [
      "Матчі: 100%|██████████| 44373/44373 [00:44<00:00, 994.72it/s] \n"
     ]
    },
    {
     "name": "stdout",
     "output_type": "stream",
     "text": [
      "DataFrame shape: (443730, 263)\n"
     ]
    }
   ],
   "execution_count": 5
  },
  {
   "cell_type": "code",
   "id": "af0e9284",
   "metadata": {
    "ExecuteTime": {
     "end_time": "2025-06-06T19:57:28.068491Z",
     "start_time": "2025-06-06T19:57:21.873960Z"
    }
   },
   "source": [
    "from tqdm import tqdm\n",
    "from sklearn.cluster import KMeans\n",
    "from sklearn.metrics import silhouette_score\n",
    "\n",
    "signal_cols = [\n",
    "    \"kda\", \"kills_per_min\", \"assists\", \"gpm\", \"xpm\",\n",
    "    \"hero_damage\", \"tower_damage\", \"healing\", \"last_hits_per_min\", \"win\"\n",
    "]\n",
    "winners_df = df[df['win'] == 1].copy()\n",
    "winners_sample = winners_df.sample(12000, random_state=42)\n",
    "features = signal_cols\n",
    "X_signal = winners_sample[features]\n",
    "scaler = StandardScaler()\n",
    "X_signal_scaled = scaler.fit_transform(X_signal)\n",
    "\n",
    "best_k, best_score = None, -1\n",
    "for k in tqdm(range(3, 6), desc=\"Підбір k\"):\n",
    "    km = KMeans(n_clusters=k, random_state=42, n_init='auto').fit(X_signal_scaled)\n",
    "    score = silhouette_score(X_signal_scaled, km.labels_)\n",
    "    print(f\"k={k}: silhouette={score:.3f}\")\n",
    "    if score > best_score:\n",
    "        best_k, best_score = k, score\n",
    "\n",
    "print(\"Обрано k =\", best_k)\n",
    "kmeans = KMeans(n_clusters=best_k, random_state=42, n_init='auto', verbose=2)\n",
    "winners_sample[\"style_cluster\"] = kmeans.fit_predict(X_signal_scaled)\n",
    "\n"
   ],
   "outputs": [
    {
     "name": "stderr",
     "output_type": "stream",
     "text": [
      "Підбір k:  33%|███▎      | 1/3 [00:03<00:06,  3.43s/it]"
     ]
    },
    {
     "name": "stdout",
     "output_type": "stream",
     "text": [
      "k=3: silhouette=0.193\n"
     ]
    },
    {
     "name": "stderr",
     "output_type": "stream",
     "text": [
      "Підбір k:  67%|██████▋   | 2/3 [00:04<00:02,  2.20s/it]"
     ]
    },
    {
     "name": "stdout",
     "output_type": "stream",
     "text": [
      "k=4: silhouette=0.176\n"
     ]
    },
    {
     "name": "stderr",
     "output_type": "stream",
     "text": [
      "Підбір k: 100%|██████████| 3/3 [00:05<00:00,  1.97s/it]"
     ]
    },
    {
     "name": "stdout",
     "output_type": "stream",
     "text": [
      "k=5: silhouette=0.183\n",
      "Обрано k = 3\n",
      "Initialization complete\n",
      "Iteration 0, inertia 90810.79410010354.\n",
      "Iteration 1, inertia 67190.71198768646.\n",
      "Iteration 2, inertia 65758.34880592828.\n",
      "Iteration 3, inertia 65506.40363012799.\n",
      "Iteration 4, inertia 65405.76389157839.\n",
      "Iteration 5, inertia 65347.26296689242.\n",
      "Iteration 6, inertia 65312.98779505821.\n",
      "Iteration 7, inertia 65297.52737818563.\n",
      "Iteration 8, inertia 65283.975053727685.\n",
      "Iteration 9, inertia 65274.205214796544.\n",
      "Iteration 10, inertia 65268.48049280576.\n",
      "Iteration 11, inertia 65263.59069999053.\n",
      "Iteration 12, inertia 65259.42395933603.\n",
      "Iteration 13, inertia 65256.21141244875.\n",
      "Iteration 14, inertia 65254.530470232225.\n",
      "Iteration 15, inertia 65253.10091173496.\n",
      "Iteration 16, inertia 65252.53710327183.\n",
      "Converged at iteration 16: center shift 5.367927484530389e-05 within tolerance 8.999999999999833e-05.\n"
     ]
    },
    {
     "name": "stderr",
     "output_type": "stream",
     "text": [
      "\n"
     ]
    }
   ],
   "execution_count": 6
  },
  {
   "cell_type": "code",
   "id": "c918a7a9",
   "metadata": {
    "ExecuteTime": {
     "end_time": "2025-06-06T19:57:46.124226Z",
     "start_time": "2025-06-06T19:57:46.109099Z"
    }
   },
   "source": [
    "scaler_signal = StandardScaler()\n",
    "z = pd.DataFrame(scaler_signal.fit_transform(winners_sample[signal_cols]), columns=signal_cols)\n",
    "z[\"cluster\"] = winners_sample[\"style_cluster\"].values\n",
    "centers = z.groupby(\"cluster\").mean()\n",
    "\n",
    "def label_rule(r):\n",
    "    if r[\"kills_per_min\"] > 0.7 and r[\"hero_damage\"] > 0.7 and r[\"gpm\"] > 0.7:\n",
    "        return \"aggressive\"\n",
    "    if r[\"assists\"] > 0.35 and r[\"healing\"] > 0.15:\n",
    "        return \"supporting\"\n",
    "    if r[\"last_hits_per_min\"] > 0.25 and r[\"gpm\"] > 0.15:\n",
    "        return \"balanced\"\n",
    "\n",
    "cluster_to_label = centers.apply(label_rule, axis=1).to_dict()\n",
    "print(\"Мапа кластерів:\", cluster_to_label)\n",
    "centers\n"
   ],
   "outputs": [
    {
     "name": "stdout",
     "output_type": "stream",
     "text": [
      "Мапа кластерів: {0: 'aggressive', 1: 'supporting', 2: 'balanced'}\n"
     ]
    },
    {
     "data": {
      "text/plain": [
       "              kda  kills_per_min   assists       gpm       xpm  hero_damage  \\\n",
       "cluster                                                                       \n",
       "0        0.592458       1.056073 -0.410192  1.363745  1.197050     1.057633   \n",
       "1       -0.210526      -0.627412  0.448123 -0.931479 -0.715056    -0.568124   \n",
       "2       -0.110285       0.092088 -0.269813  0.257766  0.108834     0.023284   \n",
       "\n",
       "         tower_damage   healing  last_hits_per_min  win  \n",
       "cluster                                                  \n",
       "0            1.190579 -0.143072           1.146266  0.0  \n",
       "1           -0.660073  0.232455          -0.913147  0.0  \n",
       "2            0.049721 -0.181295           0.365737  0.0  "
      ],
      "text/html": [
       "<div>\n",
       "<style scoped>\n",
       "    .dataframe tbody tr th:only-of-type {\n",
       "        vertical-align: middle;\n",
       "    }\n",
       "\n",
       "    .dataframe tbody tr th {\n",
       "        vertical-align: top;\n",
       "    }\n",
       "\n",
       "    .dataframe thead th {\n",
       "        text-align: right;\n",
       "    }\n",
       "</style>\n",
       "<table border=\"1\" class=\"dataframe\">\n",
       "  <thead>\n",
       "    <tr style=\"text-align: right;\">\n",
       "      <th></th>\n",
       "      <th>kda</th>\n",
       "      <th>kills_per_min</th>\n",
       "      <th>assists</th>\n",
       "      <th>gpm</th>\n",
       "      <th>xpm</th>\n",
       "      <th>hero_damage</th>\n",
       "      <th>tower_damage</th>\n",
       "      <th>healing</th>\n",
       "      <th>last_hits_per_min</th>\n",
       "      <th>win</th>\n",
       "    </tr>\n",
       "    <tr>\n",
       "      <th>cluster</th>\n",
       "      <th></th>\n",
       "      <th></th>\n",
       "      <th></th>\n",
       "      <th></th>\n",
       "      <th></th>\n",
       "      <th></th>\n",
       "      <th></th>\n",
       "      <th></th>\n",
       "      <th></th>\n",
       "      <th></th>\n",
       "    </tr>\n",
       "  </thead>\n",
       "  <tbody>\n",
       "    <tr>\n",
       "      <th>0</th>\n",
       "      <td>0.592458</td>\n",
       "      <td>1.056073</td>\n",
       "      <td>-0.410192</td>\n",
       "      <td>1.363745</td>\n",
       "      <td>1.197050</td>\n",
       "      <td>1.057633</td>\n",
       "      <td>1.190579</td>\n",
       "      <td>-0.143072</td>\n",
       "      <td>1.146266</td>\n",
       "      <td>0.0</td>\n",
       "    </tr>\n",
       "    <tr>\n",
       "      <th>1</th>\n",
       "      <td>-0.210526</td>\n",
       "      <td>-0.627412</td>\n",
       "      <td>0.448123</td>\n",
       "      <td>-0.931479</td>\n",
       "      <td>-0.715056</td>\n",
       "      <td>-0.568124</td>\n",
       "      <td>-0.660073</td>\n",
       "      <td>0.232455</td>\n",
       "      <td>-0.913147</td>\n",
       "      <td>0.0</td>\n",
       "    </tr>\n",
       "    <tr>\n",
       "      <th>2</th>\n",
       "      <td>-0.110285</td>\n",
       "      <td>0.092088</td>\n",
       "      <td>-0.269813</td>\n",
       "      <td>0.257766</td>\n",
       "      <td>0.108834</td>\n",
       "      <td>0.023284</td>\n",
       "      <td>0.049721</td>\n",
       "      <td>-0.181295</td>\n",
       "      <td>0.365737</td>\n",
       "      <td>0.0</td>\n",
       "    </tr>\n",
       "  </tbody>\n",
       "</table>\n",
       "</div>"
      ]
     },
     "execution_count": 8,
     "metadata": {},
     "output_type": "execute_result"
    }
   ],
   "execution_count": 8
  },
  {
   "cell_type": "code",
   "id": "178ffd4b",
   "metadata": {
    "ExecuteTime": {
     "end_time": "2025-06-06T19:57:49.408320Z",
     "start_time": "2025-06-06T19:57:49.400815Z"
    }
   },
   "source": [
    "joblib.dump(scaler, \"scaler_final_ready.joblib\")\n",
    "joblib.dump(kmeans, \"kmeans_model_final_ready.joblib\")\n"
   ],
   "outputs": [
    {
     "data": {
      "text/plain": [
       "['kmeans_model_final_ready.joblib']"
      ]
     },
     "execution_count": 9,
     "metadata": {},
     "output_type": "execute_result"
    }
   ],
   "execution_count": 9
  },
  {
   "cell_type": "code",
   "id": "4581f0f6",
   "metadata": {
    "ExecuteTime": {
     "end_time": "2025-06-05T03:00:09.304484Z",
     "start_time": "2025-06-05T03:00:08.475593Z"
    }
   },
   "source": [
    "summary = df.groupby(\"style_cluster\")[signal_cols + [\"win\"]].mean().round(2)\n",
    "display(summary)\n"
   ],
   "outputs": [
    {
     "ename": "KeyError",
     "evalue": "'style_cluster'",
     "output_type": "error",
     "traceback": [
      "\u001B[31m---------------------------------------------------------------------------\u001B[39m",
      "\u001B[31mKeyError\u001B[39m                                  Traceback (most recent call last)",
      "\u001B[36mCell\u001B[39m\u001B[36m \u001B[39m\u001B[32mIn[12]\u001B[39m\u001B[32m, line 1\u001B[39m\n\u001B[32m----> \u001B[39m\u001B[32m1\u001B[39m summary = \u001B[43mdf\u001B[49m\u001B[43m.\u001B[49m\u001B[43mgroupby\u001B[49m\u001B[43m(\u001B[49m\u001B[33;43m\"\u001B[39;49m\u001B[33;43mstyle_cluster\u001B[39;49m\u001B[33;43m\"\u001B[39;49m\u001B[43m)\u001B[49m[signal_cols + [\u001B[33m\"\u001B[39m\u001B[33mwin\u001B[39m\u001B[33m\"\u001B[39m]].mean().round(\u001B[32m2\u001B[39m)\n\u001B[32m      2\u001B[39m display(summary)\n",
      "\u001B[36mFile \u001B[39m\u001B[32m~\\PycharmProjects\\diploma\\.venv\\Lib\\site-packages\\pandas\\core\\frame.py:9183\u001B[39m, in \u001B[36mDataFrame.groupby\u001B[39m\u001B[34m(self, by, axis, level, as_index, sort, group_keys, observed, dropna)\u001B[39m\n\u001B[32m   9180\u001B[39m \u001B[38;5;28;01mif\u001B[39;00m level \u001B[38;5;129;01mis\u001B[39;00m \u001B[38;5;28;01mNone\u001B[39;00m \u001B[38;5;129;01mand\u001B[39;00m by \u001B[38;5;129;01mis\u001B[39;00m \u001B[38;5;28;01mNone\u001B[39;00m:\n\u001B[32m   9181\u001B[39m     \u001B[38;5;28;01mraise\u001B[39;00m \u001B[38;5;167;01mTypeError\u001B[39;00m(\u001B[33m\"\u001B[39m\u001B[33mYou have to supply one of \u001B[39m\u001B[33m'\u001B[39m\u001B[33mby\u001B[39m\u001B[33m'\u001B[39m\u001B[33m and \u001B[39m\u001B[33m'\u001B[39m\u001B[33mlevel\u001B[39m\u001B[33m'\u001B[39m\u001B[33m\"\u001B[39m)\n\u001B[32m-> \u001B[39m\u001B[32m9183\u001B[39m \u001B[38;5;28;01mreturn\u001B[39;00m \u001B[43mDataFrameGroupBy\u001B[49m\u001B[43m(\u001B[49m\n\u001B[32m   9184\u001B[39m \u001B[43m    \u001B[49m\u001B[43mobj\u001B[49m\u001B[43m=\u001B[49m\u001B[38;5;28;43mself\u001B[39;49m\u001B[43m,\u001B[49m\n\u001B[32m   9185\u001B[39m \u001B[43m    \u001B[49m\u001B[43mkeys\u001B[49m\u001B[43m=\u001B[49m\u001B[43mby\u001B[49m\u001B[43m,\u001B[49m\n\u001B[32m   9186\u001B[39m \u001B[43m    \u001B[49m\u001B[43maxis\u001B[49m\u001B[43m=\u001B[49m\u001B[43maxis\u001B[49m\u001B[43m,\u001B[49m\n\u001B[32m   9187\u001B[39m \u001B[43m    \u001B[49m\u001B[43mlevel\u001B[49m\u001B[43m=\u001B[49m\u001B[43mlevel\u001B[49m\u001B[43m,\u001B[49m\n\u001B[32m   9188\u001B[39m \u001B[43m    \u001B[49m\u001B[43mas_index\u001B[49m\u001B[43m=\u001B[49m\u001B[43mas_index\u001B[49m\u001B[43m,\u001B[49m\n\u001B[32m   9189\u001B[39m \u001B[43m    \u001B[49m\u001B[43msort\u001B[49m\u001B[43m=\u001B[49m\u001B[43msort\u001B[49m\u001B[43m,\u001B[49m\n\u001B[32m   9190\u001B[39m \u001B[43m    \u001B[49m\u001B[43mgroup_keys\u001B[49m\u001B[43m=\u001B[49m\u001B[43mgroup_keys\u001B[49m\u001B[43m,\u001B[49m\n\u001B[32m   9191\u001B[39m \u001B[43m    \u001B[49m\u001B[43mobserved\u001B[49m\u001B[43m=\u001B[49m\u001B[43mobserved\u001B[49m\u001B[43m,\u001B[49m\n\u001B[32m   9192\u001B[39m \u001B[43m    \u001B[49m\u001B[43mdropna\u001B[49m\u001B[43m=\u001B[49m\u001B[43mdropna\u001B[49m\u001B[43m,\u001B[49m\n\u001B[32m   9193\u001B[39m \u001B[43m\u001B[49m\u001B[43m)\u001B[49m\n",
      "\u001B[36mFile \u001B[39m\u001B[32m~\\PycharmProjects\\diploma\\.venv\\Lib\\site-packages\\pandas\\core\\groupby\\groupby.py:1329\u001B[39m, in \u001B[36mGroupBy.__init__\u001B[39m\u001B[34m(self, obj, keys, axis, level, grouper, exclusions, selection, as_index, sort, group_keys, observed, dropna)\u001B[39m\n\u001B[32m   1326\u001B[39m \u001B[38;5;28mself\u001B[39m.dropna = dropna\n\u001B[32m   1328\u001B[39m \u001B[38;5;28;01mif\u001B[39;00m grouper \u001B[38;5;129;01mis\u001B[39;00m \u001B[38;5;28;01mNone\u001B[39;00m:\n\u001B[32m-> \u001B[39m\u001B[32m1329\u001B[39m     grouper, exclusions, obj = \u001B[43mget_grouper\u001B[49m\u001B[43m(\u001B[49m\n\u001B[32m   1330\u001B[39m \u001B[43m        \u001B[49m\u001B[43mobj\u001B[49m\u001B[43m,\u001B[49m\n\u001B[32m   1331\u001B[39m \u001B[43m        \u001B[49m\u001B[43mkeys\u001B[49m\u001B[43m,\u001B[49m\n\u001B[32m   1332\u001B[39m \u001B[43m        \u001B[49m\u001B[43maxis\u001B[49m\u001B[43m=\u001B[49m\u001B[43maxis\u001B[49m\u001B[43m,\u001B[49m\n\u001B[32m   1333\u001B[39m \u001B[43m        \u001B[49m\u001B[43mlevel\u001B[49m\u001B[43m=\u001B[49m\u001B[43mlevel\u001B[49m\u001B[43m,\u001B[49m\n\u001B[32m   1334\u001B[39m \u001B[43m        \u001B[49m\u001B[43msort\u001B[49m\u001B[43m=\u001B[49m\u001B[43msort\u001B[49m\u001B[43m,\u001B[49m\n\u001B[32m   1335\u001B[39m \u001B[43m        \u001B[49m\u001B[43mobserved\u001B[49m\u001B[43m=\u001B[49m\u001B[38;5;28;43;01mFalse\u001B[39;49;00m\u001B[43m \u001B[49m\u001B[38;5;28;43;01mif\u001B[39;49;00m\u001B[43m \u001B[49m\u001B[43mobserved\u001B[49m\u001B[43m \u001B[49m\u001B[38;5;129;43;01mis\u001B[39;49;00m\u001B[43m \u001B[49m\u001B[43mlib\u001B[49m\u001B[43m.\u001B[49m\u001B[43mno_default\u001B[49m\u001B[43m \u001B[49m\u001B[38;5;28;43;01melse\u001B[39;49;00m\u001B[43m \u001B[49m\u001B[43mobserved\u001B[49m\u001B[43m,\u001B[49m\n\u001B[32m   1336\u001B[39m \u001B[43m        \u001B[49m\u001B[43mdropna\u001B[49m\u001B[43m=\u001B[49m\u001B[38;5;28;43mself\u001B[39;49m\u001B[43m.\u001B[49m\u001B[43mdropna\u001B[49m\u001B[43m,\u001B[49m\n\u001B[32m   1337\u001B[39m \u001B[43m    \u001B[49m\u001B[43m)\u001B[49m\n\u001B[32m   1339\u001B[39m \u001B[38;5;28;01mif\u001B[39;00m observed \u001B[38;5;129;01mis\u001B[39;00m lib.no_default:\n\u001B[32m   1340\u001B[39m     \u001B[38;5;28;01mif\u001B[39;00m \u001B[38;5;28many\u001B[39m(ping._passed_categorical \u001B[38;5;28;01mfor\u001B[39;00m ping \u001B[38;5;129;01min\u001B[39;00m grouper.groupings):\n",
      "\u001B[36mFile \u001B[39m\u001B[32m~\\PycharmProjects\\diploma\\.venv\\Lib\\site-packages\\pandas\\core\\groupby\\grouper.py:1043\u001B[39m, in \u001B[36mget_grouper\u001B[39m\u001B[34m(obj, key, axis, level, sort, observed, validate, dropna)\u001B[39m\n\u001B[32m   1041\u001B[39m         in_axis, level, gpr = \u001B[38;5;28;01mFalse\u001B[39;00m, gpr, \u001B[38;5;28;01mNone\u001B[39;00m\n\u001B[32m   1042\u001B[39m     \u001B[38;5;28;01melse\u001B[39;00m:\n\u001B[32m-> \u001B[39m\u001B[32m1043\u001B[39m         \u001B[38;5;28;01mraise\u001B[39;00m \u001B[38;5;167;01mKeyError\u001B[39;00m(gpr)\n\u001B[32m   1044\u001B[39m \u001B[38;5;28;01melif\u001B[39;00m \u001B[38;5;28misinstance\u001B[39m(gpr, Grouper) \u001B[38;5;129;01mand\u001B[39;00m gpr.key \u001B[38;5;129;01mis\u001B[39;00m \u001B[38;5;129;01mnot\u001B[39;00m \u001B[38;5;28;01mNone\u001B[39;00m:\n\u001B[32m   1045\u001B[39m     \u001B[38;5;66;03m# Add key to exclusions\u001B[39;00m\n\u001B[32m   1046\u001B[39m     exclusions.add(gpr.key)\n",
      "\u001B[31mKeyError\u001B[39m: 'style_cluster'"
     ]
    }
   ],
   "execution_count": 12
  },
  {
   "cell_type": "code",
   "id": "e1abc959",
   "metadata": {
    "ExecuteTime": {
     "end_time": "2025-06-06T19:57:53.373413Z",
     "start_time": "2025-06-06T19:57:53.370318Z"
    }
   },
   "source": [
    "def get_style_for_hero(hero_stats):\n",
    "    Xrow = pd.DataFrame([hero_stats])[features]\n",
    "    pred = kmeans.predict(scaler.transform(Xrow))[0]\n",
    "    return cluster_to_label.get(pred, f\"cluster_{pred}\")"
   ],
   "outputs": [],
   "execution_count": 10
  },
  {
   "cell_type": "code",
   "id": "17dd7488",
   "metadata": {
    "ExecuteTime": {
     "end_time": "2025-06-06T20:35:38.220458Z",
     "start_time": "2025-06-06T20:35:38.202545Z"
    }
   },
   "source": [
    "radiant_ids = [109, 106, 97, 26, 10]\n",
    "dire_ids = [39, 25, 6, 38, 71]\n",
    "results = {}\n",
    "for h in radiant_ids:\n",
    "    hero_stats = winners_sample[winners_sample[\"hero_id\"] == h][features].mean().to_dict()\n",
    "    style = get_style_for_hero(hero_stats)\n",
    "    results[h] = style\n",
    "\n",
    "print(\"Рекомендований стиль для кожного героя Radiant:\")\n",
    "print(results)\n"
   ],
   "outputs": [
    {
     "name": "stdout",
     "output_type": "stream",
     "text": [
      "Рекомендований стиль для кожного героя Radiant:\n",
      "{109: 'aggressive', 106: 'balanced', 97: 'balanced', 26: 'supporting', 10: 'aggressive'}\n"
     ]
    }
   ],
   "execution_count": 13
  }
 ],
 "metadata": {
  "kernelspec": {
   "name": "python3",
   "language": "python",
   "display_name": "Python 3 (ipykernel)"
  }
 },
 "nbformat": 4,
 "nbformat_minor": 5
}

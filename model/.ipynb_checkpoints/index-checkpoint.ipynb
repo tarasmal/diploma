{
 "cells": [
  {
   "cell_type": "code",
   "id": "initial_id",
   "metadata": {
    "collapsed": true,
    "ExecuteTime": {
     "end_time": "2025-04-30T07:39:58.015678Z",
     "start_time": "2025-04-30T07:39:27.419229Z"
    }
   },
   "source": [
    "from pymongo import MongoClient\n",
    "import pandas as pd\n",
    "\n",
    "client = MongoClient(\"mongodb://localhost:27017\")\n",
    "db = client[\"dota\"]\n",
    "matches_info = db[\"matches_info\"]\n",
    "\n",
    "cursor = matches_info.find({}, {\n",
    "    \"match_id\": 1,\n",
    "    \"radiant_win\": 1,\n",
    "    \"players\": 1,\n",
    "    \"game_mode\": 1,\n",
    "    \"duration\": 1\n",
    "})\n",
    "\n",
    "raw_data = list(cursor)\n",
    "print(f\"Завантажено {len(raw_data)} матчів\")"
   ],
   "outputs": [
    {
     "name": "stdout",
     "output_type": "stream",
     "text": [
      "Завантажено 44373 матчів\n"
     ]
    }
   ],
   "execution_count": 2
  },
  {
   "metadata": {},
   "cell_type": "code",
   "outputs": [],
   "execution_count": null,
   "source": "df = pd.DataFrame(raw_data)\n",
   "id": "f015415c7f9f20c2"
  },
  {
   "metadata": {},
   "cell_type": "code",
   "outputs": [],
   "execution_count": null,
   "source": [
    "def extract_teams(players):\n",
    "    radiant = [p[\"hero_id\"] for p in players if p[\"player_slot\"] < 128]\n",
    "    dire = [p[\"hero_id\"] for p in players if p[\"player_slot\"] >= 128]\n",
    "    return pd.Series([radiant, dire])\n",
    "\n",
    "df[[\"radiant_heroes\", \"dire_heroes\"]] = df[\"players\"].apply(extract_teams)"
   ],
   "id": "931df7c3a5d038b3"
  }
 ],
 "metadata": {
  "kernelspec": {
   "display_name": "Python 3",
   "language": "python",
   "name": "python3"
  },
  "language_info": {
   "codemirror_mode": {
    "name": "ipython",
    "version": 2
   },
   "file_extension": ".py",
   "mimetype": "text/x-python",
   "name": "python",
   "nbconvert_exporter": "python",
   "pygments_lexer": "ipython2",
   "version": "2.7.6"
  }
 },
 "nbformat": 4,
 "nbformat_minor": 5
}
